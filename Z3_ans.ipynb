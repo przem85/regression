{
 "cells": [
  {
   "cell_type": "markdown",
   "metadata": {},
   "source": [
    "# Cross validation\n"
   ]
  },
  {
   "cell_type": "code",
   "execution_count": 1,
   "metadata": {},
   "outputs": [
    {
     "name": "stderr",
     "output_type": "stream",
     "text": [
      "C:\\ProgramData\\Anaconda3\\lib\\site-packages\\scipy\\__init__.py:173: UserWarning: A NumPy version >=1.19.5 and <1.27.0 is required for this version of SciPy (detected version 1.19.2)\n",
      "  warnings.warn(f\"A NumPy version >={np_minversion} and <{np_maxversion}\"\n"
     ]
    }
   ],
   "source": [
    "import numpy as np\n",
    "import pandas as pd\n",
    "import scipy.stats as stats\n",
    "import sklearn.linear_model as lm\n",
    "from sklearn import datasets, linear_model\n",
    "import matplotlib.pyplot as plt\n",
    "\n",
    "from sklearn.preprocessing import PolynomialFeatures\n",
    "from sklearn.pipeline import make_pipeline"
   ]
  },
  {
   "cell_type": "markdown",
   "metadata": {},
   "source": [
    "Rozważmy następujący zbiór punktów:"
   ]
  },
  {
   "cell_type": "code",
   "execution_count": 2,
   "metadata": {},
   "outputs": [
    {
     "data": {
      "image/png": "[encoded data removed]",
      "text/plain": [
       "<Figure size 432x288 with 1 Axes>"
      ]
     },
     "metadata": {
      "needs_background": "light"
     },
     "output_type": "display_data"
    }
   ],
   "source": [
    "x = stats.uniform(0,3).rvs(100)\n",
    "f = lambda x: ((x*2-1)*(x**2-2)*(x-2)+3)\n",
    "y = f(x) + stats.norm(0,0.9).rvs(len(x))\n",
    "plt.plot(x, y, 'ok', ms=10);\n",
    "plt.show()"
   ]
  },
  {
   "cell_type": "markdown",
   "metadata": {},
   "source": [
    "# Zadanie\n",
    "Podziel zbiór danych na część testową i treningową. \n",
    "Naucz model na części treningowej i oceń wyniki na części testowej."
   ]
  },
  {
   "cell_type": "code",
   "execution_count": 18,
   "metadata": {},
   "outputs": [
    {
     "name": "stdout",
     "output_type": "stream",
     "text": [
      "(50,) (50,)\n",
      "(50,) (50,)\n"
     ]
    }
   ],
   "source": [
    "from sklearn.model_selection import train_test_split\n",
    "X_train, X_test, y_train, y_test = train_test_split(x, y, test_size=0.5, random_state=0)\n",
    "\n",
    "print(X_train.shape, y_train.shape)\n",
    "print(X_test.shape, y_test.shape)"
   ]
  },
  {
   "cell_type": "code",
   "execution_count": 19,
   "metadata": {},
   "outputs": [],
   "source": [
    "X_train=np.vstack(X_train)\n",
    "X_test=np.vstack(X_test)"
   ]
  },
  {
   "cell_type": "code",
   "execution_count": 20,
   "metadata": {},
   "outputs": [
    {
     "data": {
      "text/plain": [
       "array([ 3.08938371e+00,  1.32764565e+01,  8.56740182e-01,  1.69845939e+01,\n",
       "       -7.75167896e-02,  5.37327003e+00,  9.51033898e-02,  9.74164682e-01,\n",
       "        2.50489011e+00,  2.50637582e+01,  2.59994670e+00,  8.75826356e+00,\n",
       "       -6.85978749e-02,  2.08239578e-01,  2.52582051e-02,  7.22676700e+00,\n",
       "        1.06672779e+00,  1.07839168e+00,  9.11744940e-01,  1.04251615e+01,\n",
       "        3.29804803e+00,  5.08677122e-01,  8.86373627e+00,  2.32069515e+00,\n",
       "       -6.72854180e-03,  2.41780620e+01,  5.29735534e+00,  1.38639923e+01,\n",
       "        2.28378618e+01,  8.77164551e-01,  2.42394180e+00,  1.88258154e+01,\n",
       "        8.92416058e-01,  5.04281596e+00,  2.61352471e+00,  6.43414087e+00,\n",
       "        6.35397827e-01,  5.22750665e+00,  2.65492462e+01,  8.97180698e-01,\n",
       "        1.80027973e+00,  1.27068396e+00,  9.48249064e+00,  5.87769861e+00,\n",
       "        9.23004043e-01,  1.38888021e-01,  1.88672906e+01,  2.22676810e+01,\n",
       "        1.06491377e+01,  3.96924106e-01])"
      ]
     },
     "execution_count": 20,
     "metadata": {},
     "output_type": "execute_result"
    }
   ],
   "source": [
    "model2 = make_pipeline(PolynomialFeatures(2), linear_model.LinearRegression())\n",
    "model2.fit(X_train, y_train)\n",
    "model2.predict(X_test)"
   ]
  },
  {
   "cell_type": "code",
   "execution_count": 21,
   "metadata": {},
   "outputs": [
    {
     "name": "stdout",
     "output_type": "stream",
     "text": [
      "R^2: 0.8110364085974705\n",
      "Explained variance score: 0.8130292176500205\n",
      "Median absolute error: 3.0043029919833364\n",
      "Mean squared error: 15.30264384703354\n",
      "Mean absolute errors: 3.3424320456519627\n"
     ]
    }
   ],
   "source": [
    "from sklearn import  metrics\n",
    "print(\"R^2: {}\".format(metrics.r2_score(y_test, model2.predict(X_test)) ))\n",
    "print(\"Explained variance score: {}\".format( metrics.explained_variance_score(y_test, model2.predict(X_test)) ))\n",
    "print(\"Median absolute error: {}\".format( metrics.median_absolute_error(y_test, model2.predict(X_test)) ))\n",
    "print(\"Mean squared error: {}\".format( metrics.mean_squared_error(y_test, model2.predict(X_test)) ))\n",
    "print(\"Mean absolute errors: {}\".format(metrics.mean_absolute_error(y_test, model2.predict(X_test)) ))"
   ]
  },
  {
   "cell_type": "markdown",
   "metadata": {},
   "source": [
    "# Zadanie\n",
    "Wylicz powyższe miary dla wszytkich modeli:\n",
    "\n",
    "- regrsji linowej\n",
    "- regrsji wielomianowej stopnia 2\n",
    "- regrsji wielomianowej stopnia 3\n",
    "- regrsji wielomianowej stopnia 4\n",
    "- regrsji wielomianowej stopnia 5\n",
    "- regrsji wielomianowej stopnia 25"
   ]
  },
  {
   "cell_type": "code",
   "execution_count": 23,
   "metadata": {},
   "outputs": [
    {
     "name": "stdout",
     "output_type": "stream",
     "text": [
      "LR\n",
      "Train mean squared error: 35.597537332445945\n",
      "Test mean squared error: 36.83790333807012\n",
      "PR2\n",
      "Train mean squared error: 15.681007032926868\n",
      "Test mean squared error: 15.30264384703354\n",
      "PR5\n",
      "Train mean squared error: 0.8499961398441647\n",
      "Test mean squared error: 0.6493360970378547\n",
      "PR10\n",
      "Train mean squared error: 0.7242999140608077\n",
      "Test mean squared error: 0.7593385565620744\n",
      "PR15\n",
      "Train mean squared error: 0.5771531878102383\n",
      "Test mean squared error: 5.013323170268938\n",
      "PR25\n",
      "Train mean squared error: 0.5163773209708975\n",
      "Test mean squared error: 6.077425175592875\n"
     ]
    }
   ],
   "source": [
    "models = []\n",
    "models.append(('LR', linear_model.LinearRegression()))\n",
    "models.append(('PR2', make_pipeline(PolynomialFeatures(2), linear_model.LinearRegression()) ))\n",
    "models.append(('PR5', make_pipeline(PolynomialFeatures(5), linear_model.LinearRegression()) ))\n",
    "models.append(('PR10', make_pipeline(PolynomialFeatures(10), linear_model.LinearRegression()) ))\n",
    "models.append(('PR15', make_pipeline(PolynomialFeatures(15), linear_model.LinearRegression()) ))\n",
    "models.append(('PR25', make_pipeline(PolynomialFeatures(20), linear_model.LinearRegression()) ))\n",
    "\n",
    "for name, model in models:\n",
    "    print(name)\n",
    "    model.fit(X_train, y_train)\n",
    "#     print(\"R^2: {}\".format(metrics.r2_score(y_test, model.predict(X_test)) ))\n",
    "#     print(\"Explained variance score: {}\".format( metrics.explained_variance_score(y_test, model.predict(X_test)) ))\n",
    "#     print(\"Median absolute error: {}\".format( metrics.median_absolute_error(y_test, model.predict(X_test)) ))\n",
    "    print(\"Train mean squared error: {}\".format( metrics.mean_squared_error(y_train, model.predict(X_train)) ))\n",
    "    print(\"Test mean squared error: {}\".format( metrics.mean_squared_error(y_test, model.predict(X_test)) ))\n",
    "#     print(\"Mean absolute errors: {}\".format(metrics.mean_absolute_error(y_test, model.predict(X_test)) ))"
   ]
  },
  {
   "cell_type": "code",
   "execution_count": null,
   "metadata": {},
   "outputs": [],
   "source": []
  },
  {
   "cell_type": "code",
   "execution_count": null,
   "metadata": {
    "collapsed": true
   },
   "outputs": [],
   "source": []
  },
  {
   "cell_type": "code",
   "execution_count": null,
   "metadata": {
    "collapsed": true
   },
   "outputs": [],
   "source": []
  }
 ],
 "metadata": {
  "kernelspec": {
   "display_name": "Python 3",
   "language": "python",
   "name": "python3"
  },
  "language_info": {
   "codemirror_mode": {
    "name": "ipython",
    "version": 3
   },
   "file_extension": ".py",
   "mimetype": "text/x-python",
   "name": "python",
   "nbconvert_exporter": "python",
   "pygments_lexer": "ipython3",
   "version": "3.8.5"
  }
 },
 "nbformat": 4,
 "nbformat_minor": 1
}
